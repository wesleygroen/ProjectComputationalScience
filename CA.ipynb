{
 "cells": [
  {
   "cell_type": "code",
   "execution_count": 77,
   "metadata": {},
   "outputs": [],
   "source": [
    "import numpy as np\n",
    "import random\n",
    "\n",
    "\n",
    "def run_sim(start_speed, max_speed, n_cars):\n",
    "    state = 0\n",
    "    ca = [start_speed] * n_cars\n",
    "    if start_speed >= 3:\n",
    "        ca[-1] -= 2\n",
    "    while len(set(ca)) != 1:\n",
    "        \n",
    "        for i in range(len(ca)-1):\n",
    "            if ca[i] != ca[i+1]:\n",
    "                ca[i] = ca[i+1]\n",
    "                \n",
    "        state += 1\n",
    "        \n",
    "        if state % (n_cars-3) == 0:\n",
    "            if np.random.randint(2) % state == 0 and ca[-1] != 1:\n",
    "                ca[-1] += [-1,1][random.randrange(2)]\n",
    "\n",
    "            elif ca[-1] == 1:\n",
    "                ca[-1] += random.randint(0,1)\n",
    "            elif ca[-1] == max_speed:\n",
    "                ca[-1] -= random.randint(0,1)\n",
    "\n",
    "        \n",
    "        print(\"state {}, CA = {}\".format(state, ca))\n",
    "                \n",
    "            \n",
    "        \n",
    "        \n",
    "        \n",
    "        \n",
    "        \n"
   ]
  },
  {
   "cell_type": "code",
   "execution_count": 97,
   "metadata": {},
   "outputs": [
    {
     "name": "stdout",
     "output_type": "stream",
     "text": [
      "state 1, CA = [8, 8, 8, 8, 8, 8, 8, 8, 6, 6]\n",
      "state 2, CA = [8, 8, 8, 8, 8, 8, 8, 6, 6, 6]\n",
      "state 3, CA = [8, 8, 8, 8, 8, 8, 6, 6, 6, 6]\n",
      "state 4, CA = [8, 8, 8, 8, 8, 6, 6, 6, 6, 6]\n",
      "state 5, CA = [8, 8, 8, 8, 6, 6, 6, 6, 6, 6]\n",
      "state 6, CA = [8, 8, 8, 6, 6, 6, 6, 6, 6, 6]\n",
      "state 7, CA = [8, 8, 6, 6, 6, 6, 6, 6, 6, 6]\n",
      "state 8, CA = [8, 6, 6, 6, 6, 6, 6, 6, 6, 6]\n",
      "state 9, CA = [6, 6, 6, 6, 6, 6, 6, 6, 6, 6]\n"
     ]
    }
   ],
   "source": [
    "run_sim(8, 10, 10)"
   ]
  },
  {
   "cell_type": "code",
   "execution_count": null,
   "metadata": {},
   "outputs": [],
   "source": []
  },
  {
   "cell_type": "code",
   "execution_count": null,
   "metadata": {},
   "outputs": [],
   "source": []
  }
 ],
 "metadata": {
  "kernelspec": {
   "display_name": "Python 3",
   "language": "python",
   "name": "python3"
  },
  "language_info": {
   "codemirror_mode": {
    "name": "ipython",
    "version": 3
   },
   "file_extension": ".py",
   "mimetype": "text/x-python",
   "name": "python",
   "nbconvert_exporter": "python",
   "pygments_lexer": "ipython3",
   "version": "3.7.3"
  }
 },
 "nbformat": 4,
 "nbformat_minor": 2
}
