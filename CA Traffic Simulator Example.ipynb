{
 "cells": [
  {
   "cell_type": "code",
   "execution_count": null,
   "metadata": {},
   "outputs": [],
   "source": [
    "import numpy as np\n",
    "import matplotlib.pyplot as plt"
   ]
  },
  {
   "cell_type": "code",
   "execution_count": null,
   "metadata": {},
   "outputs": [],
   "source": [
    "def flow_rate_linear(Vmax, Kmax, k):\n",
    "    return Vmax*(Kmax - k)\n",
    "\n",
    "def flow_rate_quadratic(Vmax, Kmax, k):\n",
    "    return Vmax*k*(Kmax - k)\n",
    "\n",
    "x = np.linspace(0,100,100,\n",
    "                dtype=float)\n",
    "res = np.array([0]*100)\n",
    "res2 = np.array([0]*100)\n",
    "\n",
    "for i, n in enumerate(x):\n",
    "    res[i] = flow_rate_linear(100, \n",
    "                             100,\n",
    "                             i)\n",
    "    res2[i] = flow_rate_quadratic(100,\n",
    "                                 100,\n",
    "                                 i)\n",
    "\n",
    "plt.plot(x, res)\n",
    "print('linear traffic flow reduction with density increase')\n",
    "plt.show()\n",
    "\n",
    "plt.plot(x,res2)\n",
    "print('quadratic traffic flow reduction with density increase')\n",
    "plt.show()\n"
   ]
  },
  {
   "cell_type": "code",
   "execution_count": null,
   "metadata": {},
   "outputs": [],
   "source": [
    "def make_random_array(size):\n",
    "    array = [0]*size\n",
    "    for i in range(size):\n",
    "        num = np.random.rand()\n",
    "        if num>0.5:\n",
    "            array[i] = None\n",
    "        else:\n",
    "            array[i] = int(num*5+1)\n",
    "    return array\n",
    "make_random_array(10)"
   ]
  },
  {
   "cell_type": "code",
   "execution_count": null,
   "metadata": {},
   "outputs": [],
   "source": [
    "a=make_random_array(20)\n",
    "print(a)\n",
    "# single update run\n",
    "N=len(a)\n",
    "for i in range(N):\n",
    "    #print(a)\n",
    "    # update from front to back\n",
    "    i = len(a)-(i+1)\n",
    "    # front car dissapears from the frame\n",
    "    if i==N-1:\n",
    "        a[i]=None\n",
    "    # if there is no car in the first position,\n",
    "    # a car will randomly appear with a 0.5 probability\n",
    "    # with a random uniform velocity between 1 and 5\n",
    "    if i==0 and a[0]==None:\n",
    "        if np.random.rand()>0.5:\n",
    "            a[0]=int(np.random.rand()*5)\n",
    "            \n",
    "            \n",
    "    # if we aren't looking at the first or last position\n",
    "    if i!=N-1:\n",
    "    # check if there is a car, move the car forward based on the speed\n",
    "        if a[i]!=None:\n",
    "            v = a[i]\n",
    "            new_index = i + v\n",
    "\n",
    "            # check all positions up to i+speed if there are cars there\n",
    "            # If there is a car, move up to the block just behind that car\n",
    "            # If not, then occupy the space determined by your speed\n",
    "            for x in range(v):\n",
    "                x=x+1\n",
    "                # check all possible positions using v\n",
    "                if i+x < N-1:\n",
    "                    if a[i+x]!=None:\n",
    "                        # if the new position is occupied,\n",
    "                        # go just before it and match that speed\n",
    "                        a[i+x-1]=a[i+x]\n",
    "                        a[i]=None\n",
    "                # if it makes it gooes out of range during the iterative checking\n",
    "                # and there is no car in the way just remove the car\n",
    "                \n",
    "                else:\n",
    "                    a[i]=None\n",
    "            # again, if it goes out of range and there is no car in the way,\n",
    "            # simply remove the car from the array\n",
    "            if i+x < N-1:         \n",
    "                a[i+x]=a[i]\n",
    "                a[i]=None   \n",
    "            else:\n",
    "                a[i]=None\n",
    "a    "
   ]
  },
  {
   "cell_type": "code",
   "execution_count": null,
   "metadata": {},
   "outputs": [],
   "source": []
  }
 ],
 "metadata": {
  "kernelspec": {
   "display_name": "Python 3",
   "language": "python",
   "name": "python3"
  },
  "language_info": {
   "codemirror_mode": {
    "name": "ipython",
    "version": 3
   },
   "file_extension": ".py",
   "mimetype": "text/x-python",
   "name": "python",
   "nbconvert_exporter": "python",
   "pygments_lexer": "ipython3",
   "version": "3.7.4"
  }
 },
 "nbformat": 4,
 "nbformat_minor": 2
}
