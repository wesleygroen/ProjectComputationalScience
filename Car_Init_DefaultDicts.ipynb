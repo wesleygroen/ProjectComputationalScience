{
 "cells": [
  {
   "cell_type": "code",
   "execution_count": null,
   "metadata": {},
   "outputs": [],
   "source": [
    "import numpy as np\n",
    "import random \n",
    "from collections import defaultdict"
   ]
  },
  {
   "cell_type": "code",
   "execution_count": null,
   "metadata": {},
   "outputs": [],
   "source": [
    "def car_stats(N_car_sizes=4, min_size=6,\n",
    "              min_speed=0, max_speed=6):\n",
    "    # make a list of N cars of incrementally bigger sizes,\n",
    "    # starting at min_size\n",
    "    car_sizes = [min_size+i for i in range(N_car_sizes)]\n",
    "    car_speeds = [min_speed+i for i in range(max_speed+1)]\n",
    "    # return a random car size \n",
    "    return random.choice(car_sizes), random.choice(car_speeds) "
   ]
  },
  {
   "cell_type": "code",
   "execution_count": null,
   "metadata": {},
   "outputs": [],
   "source": [
    "def random_init_cars(road_length, P_sizes, P_init):\n",
    "    cars = defaultdict(lambda : defaultdict(int))\n",
    "    # zero indicates there is no car or a non-rear part of a car\n",
    "    # is present\n",
    "    road = [0]*road_length\n",
    "    x=0\n",
    "    i=1\n",
    "    while x < road_length:\n",
    "        if np.random.rand() <= P_init:\n",
    "            size, speed = car_stats()\n",
    "            cars[i]['speed']=speed\n",
    "            cars[i]['size']=size\n",
    "        road[x] = i\n",
    "        x+=size\n",
    "        i+=1\n",
    "    x=0\n",
    "    i=1\n",
    "    return cars, road\n",
    "cars, road = random_init_cars(road_length=int(1e3), P_sizes=[0.5, 0.5], P_init=1)"
   ]
  },
  {
   "cell_type": "code",
   "execution_count": null,
   "metadata": {},
   "outputs": [],
   "source": [
    "# car velocities randomly vary based on a probability\n",
    "def update_car_velocity(cars, road, Pc):\n",
    "    x=0\n",
    "    while x < len(road):\n",
    "        road_label = road[x]\n",
    "        # if the label is greater than 0, the detector\n",
    "        # reached the back-end of a car segment\n",
    "        if road_label > 0:\n",
    "            # with Pc probability, decrease car velocity by one\n",
    "            if np.random.rand() <= Pc:\n",
    "                cars[road_label]\n",
    "            print(road_label)\n",
    "            size, speed = cars[road_label]\n",
    "            print('size = ', size, '\\n',\n",
    "                 'speed = ', speed, '\\n', '---------------')\n",
    "            x+=size\n",
    "            continue\n",
    "        x+=1    \n",
    "update_car_positions(cars, road)"
   ]
  }
 ],
 "metadata": {
  "kernelspec": {
   "display_name": "Python 3",
   "language": "python",
   "name": "python3"
  },
  "language_info": {
   "codemirror_mode": {
    "name": "ipython",
    "version": 3
   },
   "file_extension": ".py",
   "mimetype": "text/x-python",
   "name": "python",
   "nbconvert_exporter": "python",
   "pygments_lexer": "ipython3",
   "version": "3.7.0"
  }
 },
 "nbformat": 4,
 "nbformat_minor": 2
}
