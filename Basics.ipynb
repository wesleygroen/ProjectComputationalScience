{
 "cells": [
  {
   "cell_type": "code",
   "execution_count": 1,
   "metadata": {},
   "outputs": [],
   "source": [
    "import matplotlib.pyplot as plt\n",
    "import config\n",
    "from CA import *"
   ]
  },
  {
   "cell_type": "code",
   "execution_count": 109,
   "metadata": {},
   "outputs": [
    {
     "name": "stdout",
     "output_type": "stream",
     "text": [
      "[2761    0    0    0    0 2760    0    0 2759    0    0 2758    0    0\n",
      " 2757    0    0 2756    0    0 2755    0    0    0    0    0    0    0\n",
      "    0    0    0 2754    0    0 2753    0    0 2752    0    0 2751    0\n",
      "    0 2750    0    0 2749    0    0 2748    0    0 2747    0    0 2746\n",
      "    0    0 2745    0    0 2744    0    0 2743    0    0 2742    0    0\n",
      " 2741    0    0 2740    0    0 2739    0    0 2738    0    0 2737    0\n",
      "    0 2736    0    0    0    0    0    0    0    0    0    0 2735    0\n",
      "    0 2734]\n",
      "2733 2761\n"
     ]
    }
   ],
   "source": [
    "cars, road = main_loop(0.5, iterations=int(1e4), road_len=int(100),\n",
    "              Vmax=6, Vrandom=True, p_gen=1,\n",
    "              reaction_time=10)\n",
    "print(road)\n",
    "print(config.flow_counter, config.car_counter)"
   ]
  }
 ],
 "metadata": {
  "kernelspec": {
   "display_name": "Python 3",
   "language": "python",
   "name": "python3"
  },
  "language_info": {
   "codemirror_mode": {
    "name": "ipython",
    "version": 3
   },
   "file_extension": ".py",
   "mimetype": "text/x-python",
   "name": "python",
   "nbconvert_exporter": "python",
   "pygments_lexer": "ipython3",
   "version": "3.7.4"
  }
 },
 "nbformat": 4,
 "nbformat_minor": 2
}
