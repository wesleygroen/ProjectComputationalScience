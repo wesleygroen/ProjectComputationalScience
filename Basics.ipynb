{
 "cells": [
  {
   "cell_type": "code",
   "execution_count": 1,
   "metadata": {},
   "outputs": [],
   "source": [
    "import matplotlib.pyplot as plt\n",
    "import config\n",
    "from CA import *"
   ]
  },
  {
   "cell_type": "code",
   "execution_count": null,
   "metadata": {},
   "outputs": [],
   "source": [
    "y = [0]*50\n",
    "x=[0]*10\n",
    "N=5000\n",
    "# test for 50 different reaction time values between 0 and 10\n",
    "for i in range(50):\n",
    "    for j in range(10):\n",
    "        cars, road = main_loop(P_init=0.5, iterations=N, road_len=1000,\n",
    "                                Vmax1=5, Vmax2=4, Vrandom=True,\n",
    "                                 p_gen=0.5, reaction_time=i, p_Vrandom=0.5,\n",
    "                                Vrandom_amount=1, Vm_vary=0)\n",
    "        x[j] = config.flow_counter\n",
    "    y[i] = sum(x)/10\n",
    "plt.plot(np.linspace(0,50,50),\n",
    "        y)"
   ]
  },
  {
   "cell_type": "code",
   "execution_count": null,
   "metadata": {},
   "outputs": [],
   "source": []
  }
 ],
 "metadata": {
  "kernelspec": {
   "display_name": "Python 3",
   "language": "python",
   "name": "python3"
  },
  "language_info": {
   "codemirror_mode": {
    "name": "ipython",
    "version": 3
   },
   "file_extension": ".py",
   "mimetype": "text/x-python",
   "name": "python",
   "nbconvert_exporter": "python",
   "pygments_lexer": "ipython3",
   "version": "3.7.0"
  }
 },
 "nbformat": 4,
 "nbformat_minor": 2
}
