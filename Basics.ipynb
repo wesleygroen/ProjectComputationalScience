{
 "cells": [
  {
   "cell_type": "code",
   "execution_count": 1,
   "metadata": {},
   "outputs": [],
   "source": [
    "from CA import *"
   ]
  },
  {
   "cell_type": "code",
   "execution_count": 15,
   "metadata": {},
   "outputs": [
    {
     "data": {
      "text/plain": [
       "array([ 0,  0,  0,  0,  0,  0,  0,  0,  0,  0,  0,  1,  0,  0,  0,  0,  2,\n",
       "        0,  0,  0,  0,  0,  3,  0,  0,  0,  4,  0,  0,  0,  0,  5,  0,  0,\n",
       "        0,  0,  0,  0,  0,  6,  0,  0,  0,  0,  7,  0,  8,  0,  0,  0,  9,\n",
       "        0,  0, 10,  0,  0,  0,  0,  0,  0,  0, 11,  0, 12,  0, 13,  0, 14,\n",
       "        0,  0,  0,  0,  0,  0,  0, 15,  0,  0,  0,  0,  0,  0,  0,  0,  0,\n",
       "       16,  0,  0,  0, 17,  0, 18,  0,  0,  0,  0,  0, 19,  0,  0])"
      ]
     },
     "execution_count": 15,
     "metadata": {},
     "output_type": "execute_result"
    }
   ],
   "source": [
    "cars, road = random_init_cars(100, 0.3)\n",
    "pos = car_positions(road)\n",
    "position_update(pos, cars, road)"
   ]
  },
  {
   "cell_type": "code",
   "execution_count": null,
   "metadata": {},
   "outputs": [],
   "source": [
    "def experiment(iterations=1000, )"
   ]
  }
 ],
 "metadata": {
  "kernelspec": {
   "display_name": "Python 3",
   "language": "python",
   "name": "python3"
  },
  "language_info": {
   "codemirror_mode": {
    "name": "ipython",
    "version": 3
   },
   "file_extension": ".py",
   "mimetype": "text/x-python",
   "name": "python",
   "nbconvert_exporter": "python",
   "pygments_lexer": "ipython3",
   "version": "3.7.0"
  }
 },
 "nbformat": 4,
 "nbformat_minor": 2
}
