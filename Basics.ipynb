{
 "cells": [
  {
   "cell_type": "code",
   "execution_count": null,
   "metadata": {},
   "outputs": [],
   "source": [
    "import numpy as np\n",
    "import random \n",
    "from collections import defaultdict"
   ]
  },
  {
   "cell_type": "code",
   "execution_count": null,
   "metadata": {},
   "outputs": [],
   "source": [
    "def random_init_cars(road_len, P_init, size=6,\n",
    "                     speed_random=False, Vmax=6):\n",
    "    cars = defaultdict(int)\n",
    "    # discrete possible set of speeds\n",
    "    speeds = [0,1,2,3,4,5,6]\n",
    "    # zero indicates there is no car or a non-rear part of a car\n",
    "    # is present\n",
    "    road = np.array([0]*road_len)\n",
    "    if speed_random==True:\n",
    "        x=0\n",
    "        i=1\n",
    "        while x < road_len:\n",
    "            if np.random.rand() <= P_init:\n",
    "                # choose random speed in {0,6} range\n",
    "                cars[i]=random.choice(speeds)\n",
    "                road[x]=i\n",
    "                x+=size\n",
    "                i+=1\n",
    "                continue\n",
    "            x+=1\n",
    "    else:\n",
    "        x=0\n",
    "        i=1\n",
    "        while x < road_len:\n",
    "            if np.random.rand() <= P_init:\n",
    "                # if not random, start all cars at Vmax \n",
    "                cars[i]=Vmax\n",
    "                road[x]=i\n",
    "                x+=size\n",
    "                i+=1\n",
    "                continue\n",
    "            x+=1\n",
    "    return cars, road\n",
    "cars, road = random_init_cars(road_len=int(1e3), P_init=0.3,speed_random=True)\n",
    "\n",
    "print(cars, road)"
   ]
  },
  {
   "cell_type": "code",
   "execution_count": null,
   "metadata": {},
   "outputs": [],
   "source": [
    "# get the indexes of all cars on the road array\n",
    "def car_positions(road):\n",
    "    return np.nonzero(road)[0]\n",
    "\n",
    "car_positions(road)"
   ]
  },
  {
   "cell_type": "code",
   "execution_count": null,
   "metadata": {},
   "outputs": [],
   "source": [
    "# change all car speeds based on the acceleration/deceleration rules \n",
    "def speed_update(cars, road, Vmax, car_positions):\n",
    "    None"
   ]
  }
 ],
 "metadata": {
  "kernelspec": {
   "display_name": "Python 3",
   "language": "python",
   "name": "python3"
  },
  "language_info": {
   "codemirror_mode": {
    "name": "ipython",
    "version": 3
   },
   "file_extension": ".py",
   "mimetype": "text/x-python",
   "name": "python",
   "nbconvert_exporter": "python",
   "pygments_lexer": "ipython3",
   "version": "3.7.4"
  }
 },
 "nbformat": 4,
 "nbformat_minor": 2
}
