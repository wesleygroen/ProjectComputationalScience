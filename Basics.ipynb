{
 "cells": [
  {
   "cell_type": "code",
   "execution_count": 29,
   "metadata": {},
   "outputs": [],
   "source": [
    "import numpy as np\n",
    "import random \n",
    "from collections import defaultdict"
   ]
  },
  {
   "cell_type": "code",
   "execution_count": 30,
   "metadata": {},
   "outputs": [],
   "source": [
    "# return a random speed between 0 and 6 blocks per time step\n",
    "def random_speed():\n",
    "    return random.choice([0,1,2,3,4,5,6])"
   ]
  },
  {
   "cell_type": "code",
   "execution_count": 31,
   "metadata": {},
   "outputs": [
    {
     "name": "stdout",
     "output_type": "stream",
     "text": [
      "defaultdict(<class 'int'>, {1: 0, 2: 5, 3: 3, 4: 2, 5: 1, 6: 6, 7: 4, 8: 2, 9: 6, 10: 3, 11: 2, 12: 1, 13: 4, 14: 2, 15: 2, 16: 6, 17: 2, 18: 2}) [ 0  0  0  1  0  0  2  0  3  0  4  0  0  0  0  0  0  0  0  5  0  0  6  0\n",
      "  7  0  8  0  9  0 10  0 11  0  0  0 12  0 13  0  0 14  0 15  0 16  0 17\n",
      "  0 18]\n"
     ]
    }
   ],
   "source": [
    "def random_init_cars(road_len, P_init,\n",
    "                     speed_random=False, Vmax=6):\n",
    "    cars = defaultdict(int)\n",
    "    # discrete possible set of speeds\n",
    "    speeds = [0,1,2,3,4,5,6]\n",
    "    # zero indicates there is no car or a non-rear part of a car\n",
    "    # is present\n",
    "    road = np.array([0]*road_len)\n",
    "    if speed_random==True:\n",
    "        x=0\n",
    "        i=1\n",
    "        while x < road_len:\n",
    "            if np.random.rand() <= P_init:\n",
    "                # choose random speed uniformly in {0,6} range\n",
    "                cars[i] = random_speed()\n",
    "                road[x] = i\n",
    "                x+=2\n",
    "                i+=1\n",
    "                continue\n",
    "            x+=1\n",
    "    else:\n",
    "        x=0\n",
    "        i=1\n",
    "        while x < road_len:\n",
    "            if np.random.rand() <= P_init:\n",
    "                # if not random, start all cars at Vmax \n",
    "                cars[i]=Vmax\n",
    "                road[x]=i\n",
    "                x+=2\n",
    "                i+=1\n",
    "                continue\n",
    "            x+=1\n",
    "    return cars, road\n",
    "cars, road = random_init_cars(road_len=int(50),\n",
    "                              P_init=.5, speed_random=True)\n",
    "print(cars, road)"
   ]
  },
  {
   "cell_type": "code",
   "execution_count": 32,
   "metadata": {},
   "outputs": [
    {
     "name": "stdout",
     "output_type": "stream",
     "text": [
      "[ 3 12 14 21 24 35]\n"
     ]
    }
   ],
   "source": [
    "# get the indexes of all cars on the road array\n",
    "def car_positions(road):\n",
    "    return np.nonzero(road)[0]\n",
    "\n",
    "car_possies = car_positions(road)\n",
    "print(car_pos)"
   ]
  },
  {
   "cell_type": "code",
   "execution_count": 33,
   "metadata": {},
   "outputs": [
    {
     "name": "stdout",
     "output_type": "stream",
     "text": [
      "new car  19\n",
      "random speed\n"
     ]
    },
    {
     "data": {
      "text/plain": [
       "(defaultdict(int,\n",
       "             {1: 0,\n",
       "              2: 5,\n",
       "              3: 3,\n",
       "              4: 2,\n",
       "              5: 1,\n",
       "              6: 6,\n",
       "              7: 4,\n",
       "              8: 2,\n",
       "              9: 6,\n",
       "              10: 3,\n",
       "              11: 2,\n",
       "              12: 1,\n",
       "              13: 4,\n",
       "              14: 2,\n",
       "              15: 2,\n",
       "              16: 6,\n",
       "              17: 2,\n",
       "              18: 2,\n",
       "              19: 3}),\n",
       " array([19,  0,  0,  1,  0,  0,  2,  0,  3,  0,  4,  0,  0,  0,  0,  0,  0,\n",
       "         0,  0,  5,  0,  0,  6,  0,  7,  0,  8,  0,  9,  0, 10,  0, 11,  0,\n",
       "         0,  0, 12,  0, 13,  0,  0, 14,  0, 15,  0, 16,  0, 17,  0, 18]))"
      ]
     },
     "execution_count": 33,
     "metadata": {},
     "output_type": "execute_result"
    }
   ],
   "source": [
    "# Generate a new car randomly if the \n",
    "# first position of the road is free. \n",
    "\n",
    "# always returns the car and road array\n",
    "def generate_new_cars(cars, road, p_gen=1,\n",
    "                      speed_random=False, Vmax=6):\n",
    "    if not road[0:2].any() and np.random.rand() <= p_gen:\n",
    "        # give the new key a new label\n",
    "        new_car = max(cars.keys())+1\n",
    "        road[0] = new_car\n",
    "        print('new car ', new_car)\n",
    "        # if speed randomization is false, set speed to Vmax\n",
    "        if speed_random==False:\n",
    "            cars[new_car] = Vmax\n",
    "        else:\n",
    "            # choose random speed uniformly\n",
    "            cars[new_car] = random_speed()\n",
    "            print('random speed')\n",
    "    return cars, road      \n",
    "\n",
    "generate_new_cars(cars, road, speed_random=True)"
   ]
  },
  {
   "cell_type": "code",
   "execution_count": 34,
   "metadata": {},
   "outputs": [],
   "source": [
    "# the speed is a function of the gap size\n",
    "# simplest model: accelerate to speed = gap_size\n",
    "def speed_update_one_car(car_pi, car_positions,\n",
    "                 cars, road, Vmax=6):\n",
    "    distance = car_positions[car_pi+1] - car_positions[car_pi] - 2\n",
    "    i = road[car_positions[car_pi]]\n",
    "    if distance >= Vmax:\n",
    "        cars[i] = Vmax\n",
    "    else:\n",
    "        cars[i] = distance\n",
    "    return cars"
   ]
  },
  {
   "cell_type": "code",
   "execution_count": 50,
   "metadata": {},
   "outputs": [],
   "source": [
    "# update position of a single car given:\n",
    "# 1) it's index into the car positions array    \n",
    "# 2) the car positions array, array of indexes that say's where each car is on the road\n",
    "#     the array is ordered such that consecutive elements correspond with consecutive cars.\n",
    "#     F.e. element 0 can correspond with car 1, element 1 with car 2 and so on.\n",
    "# 3) the cars dictionairy\n",
    "# 4) road array\n",
    "\n",
    "# \n",
    "def position_update_one_car(car_pi, car_posses,\n",
    "                    cars, road):\n",
    "    car_pos = car_posses[car_pi]\n",
    "    i = road[car_pos]\n",
    "    speed = cars[i]\n",
    "    # if speed is zero, car doesn't move\n",
    "    if speed==0:\n",
    "        return road\n",
    "    print('speed=', speed)\n",
    "    print('car ', i)\n",
    "    print('road segment=', \n",
    "          road[car_pos:car_pos+speed])\n",
    "    neighbors = car_positions(road[car_pos:car_pos+speed])\n",
    "    print('neighbor indices=',\n",
    "          neighbors)\n",
    "    # consider edge case when the updating the last car in the array,\n",
    "    # it can dissapear off the edge when position+speed > len(array)\n",
    "    if car_pi == len(car_posses)-1:\n",
    "        # delete car if it disappears of the road\n",
    "        if car_pos+speed > road.size-1:\n",
    "            road[car_pos]=0\n",
    "            del cars[i]\n",
    "            # only return the updated car dict if a car is deleted\n",
    "            return cars, road\n",
    "        # otherwise, the car can get up to the exact last block\n",
    "        else:\n",
    "            road[car_pos+speed]=road[car_pos]\n",
    "            road[car_pos]=0\n",
    "            return road          \n",
    "    # if not last car, update the position as normal\n",
    "    # if there is only one neighbor (i.e. itself), the road \n",
    "    # is clear to move at it's current speed\n",
    "    if neighbors.size==1:\n",
    "        road[car_pos + speed] = road[car_pos]\n",
    "        road[car_pos]=0\n",
    "        return road\n",
    "    # otherwise, move as close to the closest leader car \n",
    "    # as possible and adjust speed to this leader\n",
    "    else:\n",
    "        # dnn is relative distance to the first leader\n",
    "        dnn = neighbors[1]\n",
    "        print('distance to leader=',dnn)\n",
    "        # if the relative distance is exactly 2, it means the \n",
    "        # car is already driving as close as it wants to,\n",
    "        # and it can't move closer\n",
    "        if dnn == 2:\n",
    "            print('no change')\n",
    "            return road\n",
    "        # otherwise, the speed would result in a movement that \n",
    "        # is larger than the gap between itself and it's nearest\n",
    "        # leader\n",
    "        else:\n",
    "            # minimum gap is defined as it's distance to the nearest leader\n",
    "            # minus two, since there should always be one block between cars = \n",
    "            # distance of 2\n",
    "            min_gap = dnn-2\n",
    "            # if the speed is larger than this gap, is should simpy move \n",
    "            # as close as possible, i.e. this exact gap size, so it's\n",
    "            # new position is within one block of it's nearest leader\n",
    "            if speed > min_gap:\n",
    "                road[car_pos + min_gap] = road[car_pos]\n",
    "                road[car_pos]=0\n",
    "                print('speed = min gap')\n",
    "            # otherwise, there is a large enough gap given the current speed\n",
    "            # to move and it simply updates the position using this speed\n",
    "            else:\n",
    "                road[car_pos + speed] = road[car_pos]\n",
    "                road[car_pos]=0\n",
    "                print('speed = speed')\n",
    "        return road     "
   ]
  },
  {
   "cell_type": "code",
   "execution_count": 65,
   "metadata": {},
   "outputs": [],
   "source": [
    "# update position of all cars \n",
    "def position_update(car_posses, cars, road):\n",
    "    for cp in car_posses:\n",
    "        print('CP ', cp)\n",
    "        road = position_update_one_car(car_pi=cp, car_posses=car_posses,\n",
    "                                        cars=cars, road=road)\n",
    "        print(road)\n",
    "    return road"
   ]
  },
  {
   "cell_type": "code",
   "execution_count": 72,
   "metadata": {},
   "outputs": [
    {
     "name": "stdout",
     "output_type": "stream",
     "text": [
      "defaultdict(<class 'int'>, {1: 6, 2: 6, 3: 6, 4: 6, 5: 6, 6: 6, 7: 6, 8: 6, 9: 6, 10: 6, 11: 6, 12: 6, 13: 6, 14: 6, 15: 6, 16: 6, 17: 6, 18: 6, 19: 6, 20: 6, 21: 6, 22: 6, 23: 6})\n",
      "[ 4 10 12 16 19 23 25 30 33 40 42 44 56 59 61 66 68 71 82 87 94 97 99]\n",
      "speed= 6\n",
      "car  5\n",
      "road segment= [5 0 0 0 6 0]\n",
      "neighbor indices= [0 4]\n",
      "distance to leader= 4\n",
      "speed = min gap\n",
      "[ 0  0  0  0  1  0  0  0  0  0  2  0  3  0  0  0  4  0  0  0  0  5  0  6\n",
      "  0  7  0  0  0  0  8  0  0  9  0  0  0  0  0  0 10  0 11  0 12  0  0  0\n",
      "  0  0  0  0  0  0  0  0 13  0  0 14  0 15  0  0  0  0 16  0 17  0  0 18\n",
      "  0  0  0  0  0  0  0  0  0  0 19  0  0  0  0 20  0  0  0  0  0  0 21  0\n",
      "  0 22  0 23]\n",
      "speed= 6\n",
      "car  11\n",
      "road segment= [11  0 12  0  0  0]\n",
      "neighbor indices= [0 2]\n",
      "distance to leader= 2\n",
      "no change\n",
      "[ 0  0  0  0  1  0  0  0  0  0  2  0  3  0  0  0  4  0  0  0  0  5  0  6\n",
      "  0  7  0  0  0  0  8  0  0  9  0  0  0  0  0  0 10  0 11  0 12  0  0  0\n",
      "  0  0  0  0  0  0  0  0 13  0  0 14  0 15  0  0  0  0 16  0 17  0  0 18\n",
      "  0  0  0  0  0  0  0  0  0  0 19  0  0  0  0 20  0  0  0  0  0  0 21  0\n",
      "  0 22  0 23]\n",
      "speed= 6\n",
      "car  13\n",
      "road segment= [13  0  0 14  0 15]\n",
      "neighbor indices= [0 3 5]\n",
      "distance to leader= 3\n",
      "speed = min gap\n",
      "[ 0  0  0  0  1  0  0  0  0  0  2  0  3  0  0  0  4  0  0  0  0  5  0  6\n",
      "  0  7  0  0  0  0  8  0  0  9  0  0  0  0  0  0 10  0 11  0 12  0  0  0\n",
      "  0  0  0  0  0  0  0  0  0 13  0 14  0 15  0  0  0  0 16  0 17  0  0 18\n",
      "  0  0  0  0  0  0  0  0  0  0 19  0  0  0  0 20  0  0  0  0  0  0 21  0\n",
      "  0 22  0 23]\n",
      "speed= 6\n",
      "car  17\n",
      "road segment= [17  0  0 18  0  0]\n",
      "neighbor indices= [0 3]\n",
      "distance to leader= 3\n",
      "speed = min gap\n",
      "[ 0  0  0  0  1  0  0  0  0  0  2  0  3  0  0  0  4  0  0  0  0  5  0  6\n",
      "  0  7  0  0  0  0  8  0  0  9  0  0  0  0  0  0 10  0 11  0 12  0  0  0\n",
      "  0  0  0  0  0  0  0  0  0 13  0 14  0 15  0  0  0  0 16  0  0 17  0 18\n",
      "  0  0  0  0  0  0  0  0  0  0 19  0  0  0  0 20  0  0  0  0  0  0 21  0\n",
      "  0 22  0 23]\n",
      "speed= 6\n",
      "car  20\n",
      "road segment= [20  0  0  0  0  0]\n",
      "neighbor indices= [0]\n",
      "[ 0  0  0  0  1  0  0  0  0  0  2  0  3  0  0  0  4  0  0  0  0  5  0  6\n",
      "  0  7  0  0  0  0  8  0  0  9  0  0  0  0  0  0 10  0 11  0 12  0  0  0\n",
      "  0  0  0  0  0  0  0  0  0 13  0 14  0 15  0  0  0  0 16  0  0 17  0 18\n",
      "  0  0  0  0  0  0  0  0  0  0 19  0  0  0  0  0  0  0  0  0  0 20 21  0\n",
      "  0 22  0 23]\n"
     ]
    },
    {
     "ename": "IndexError",
     "evalue": "index 23 is out of bounds for axis 0 with size 23",
     "output_type": "error",
     "traceback": [
      "\u001b[1;31m---------------------------------------------------------------------------\u001b[0m",
      "\u001b[1;31mIndexError\u001b[0m                                Traceback (most recent call last)",
      "\u001b[1;32m<ipython-input-72-106835be8b30>\u001b[0m in \u001b[0;36m<module>\u001b[1;34m\u001b[0m\n\u001b[0;32m      6\u001b[0m \u001b[1;32mfor\u001b[0m \u001b[0mcp\u001b[0m \u001b[1;32min\u001b[0m \u001b[0mpossies\u001b[0m\u001b[1;33m:\u001b[0m\u001b[1;33m\u001b[0m\u001b[1;33m\u001b[0m\u001b[0m\n\u001b[0;32m      7\u001b[0m     print(position_update_one_car(car_pi=cp, car_posses=possies,\n\u001b[1;32m----> 8\u001b[1;33m                     cars=cars, road=road)\n\u001b[0m\u001b[0;32m      9\u001b[0m           )\n\u001b[0;32m     10\u001b[0m \u001b[1;31m#position_update(car_posses=possies, cars=cars, road=road)\u001b[0m\u001b[1;33m\u001b[0m\u001b[1;33m\u001b[0m\u001b[1;33m\u001b[0m\u001b[0m\n",
      "\u001b[1;32m<ipython-input-50-acae9d807c9c>\u001b[0m in \u001b[0;36mposition_update_one_car\u001b[1;34m(car_pi, car_posses, cars, road)\u001b[0m\n\u001b[0;32m     10\u001b[0m def position_update_one_car(car_pi, car_posses,\n\u001b[0;32m     11\u001b[0m                     cars, road):\n\u001b[1;32m---> 12\u001b[1;33m     \u001b[0mcar_pos\u001b[0m \u001b[1;33m=\u001b[0m \u001b[0mcar_posses\u001b[0m\u001b[1;33m[\u001b[0m\u001b[0mcar_pi\u001b[0m\u001b[1;33m]\u001b[0m\u001b[1;33m\u001b[0m\u001b[1;33m\u001b[0m\u001b[0m\n\u001b[0m\u001b[0;32m     13\u001b[0m     \u001b[0mi\u001b[0m \u001b[1;33m=\u001b[0m \u001b[0mroad\u001b[0m\u001b[1;33m[\u001b[0m\u001b[0mcar_pos\u001b[0m\u001b[1;33m]\u001b[0m\u001b[1;33m\u001b[0m\u001b[1;33m\u001b[0m\u001b[0m\n\u001b[0;32m     14\u001b[0m     \u001b[0mspeed\u001b[0m \u001b[1;33m=\u001b[0m \u001b[0mcars\u001b[0m\u001b[1;33m[\u001b[0m\u001b[0mi\u001b[0m\u001b[1;33m]\u001b[0m\u001b[1;33m\u001b[0m\u001b[1;33m\u001b[0m\u001b[0m\n",
      "\u001b[1;31mIndexError\u001b[0m: index 23 is out of bounds for axis 0 with size 23"
     ]
    }
   ],
   "source": [
    "cars, road = random_init_cars(road_len=100, P_init=0.3,\n",
    "                     speed_random=False, Vmax=6)\n",
    "print(cars)\n",
    "possies = car_positions(road=road)\n",
    "print(possies)\n",
    "for cp in possies: \n",
    "    print(position_update_one_car(car_pi=cp, car_posses=possies,\n",
    "                    cars=cars, road=road)\n",
    "          )\n",
    "#position_update(car_posses=possies, cars=cars, road=road)"
   ]
  },
  {
   "cell_type": "code",
   "execution_count": null,
   "metadata": {},
   "outputs": [],
   "source": [
    "cars, road = random_init_cars(road_len=int(50),\n",
    "                              P_init=0.3, speed_random=True)\n",
    "print(road)\n",
    "car_pos = car_positions(road)\n",
    "lp = len(car_pos)-1\n",
    "position_update(lp, car_pos, \n",
    "               cars, road)"
   ]
  },
  {
   "cell_type": "code",
   "execution_count": null,
   "metadata": {},
   "outputs": [],
   "source": [
    "# MAIN EXPERIMENT LOOP\n",
    "# The loop iterates for N times, each step applying the rules defined in the \n",
    "# update functions. Each update represents one time step.\n",
    "# First a position update is made using the current time step + RT (reaction time)\n",
    "# time steps, to represent the delayed reaction. The speed update is\n",
    "# therefore always delayed by RT.\n",
    "\n",
    "# Position update never crashes cars into one another,\n",
    "# using the assumptions that cars can decelerate as fast as necessary.\n",
    "# They never come closer than one block distance. If cars are at this minimum distance, \n",
    "# their next speed update sets their speed to 0, using the assumption that cars stop when \n",
    "# they get at this critical distance. Otherwise, the speed in blocks per time step \n",
    "# is exactly equal to the distance to it's leader, up to Vmax when there are more than \n",
    "# Vmax blocks free ahead. \n",
    "def main_loop(RT=0, N=10, \n",
    "              road_len, P_init, speed_random=False, \n",
    "              p_gen=0.3, Vmax=6):\n",
    "    # initialize the road and cars \n",
    "    cars, road = random_init_cars(road_len=road_len, P_init=P_init,\n",
    "                     speed_random=speed_random, Vmax=6)\n",
    "    # make the initial positions array of all cars on the road\n",
    "    car_posses = car_positions(road)\n",
    "    #\n",
    "    \n",
    "    t_delay = 0\n",
    "    for t in range(N):\n",
    "        # the delay time incurred buy the reaction time, defines how long a car \n",
    "        # continues moving at the current speed\n",
    "        t_delay = t + RT\n",
    "        # update the position at the current velocity for t + RT time steps\n",
    "        if t < t_delay:\n",
    "            road = position_update(car_pi, car_posses,\n",
    "                    cars, road)\n",
    "        \n",
    "    return cars, road\n",
    "\n",
    "main_loop(road_len=100, P_init=0.3)"
   ]
  },
  {
   "cell_type": "code",
   "execution_count": null,
   "metadata": {},
   "outputs": [],
   "source": [
    "#"
   ]
  }
 ],
 "metadata": {
  "kernelspec": {
   "display_name": "Python 3",
   "language": "python",
   "name": "python3"
  },
  "language_info": {
   "codemirror_mode": {
    "name": "ipython",
    "version": 3
   },
   "file_extension": ".py",
   "mimetype": "text/x-python",
   "name": "python",
   "nbconvert_exporter": "python",
   "pygments_lexer": "ipython3",
   "version": "3.7.4"
  }
 },
 "nbformat": 4,
 "nbformat_minor": 2
}
