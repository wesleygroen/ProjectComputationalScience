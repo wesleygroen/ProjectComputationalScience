{
 "cells": [
  {
   "cell_type": "code",
   "execution_count": 1,
   "metadata": {},
   "outputs": [],
   "source": [
    "import matplotlib.pyplot as plt\n",
    "from CA import *"
   ]
  },
  {
   "cell_type": "code",
   "execution_count": 8,
   "metadata": {},
   "outputs": [
    {
     "data": {
      "text/plain": [
       "(defaultdict(int,\n",
       "             {1: 0,\n",
       "              2: 0,\n",
       "              3: 0,\n",
       "              4: 0,\n",
       "              5: 0,\n",
       "              6: 0,\n",
       "              7: 0,\n",
       "              8: 0,\n",
       "              9: 0,\n",
       "              10: 0,\n",
       "              11: 0,\n",
       "              12: 0,\n",
       "              13: 0,\n",
       "              14: 0,\n",
       "              15: 0,\n",
       "              16: 0,\n",
       "              17: 0,\n",
       "              18: 0,\n",
       "              19: 0,\n",
       "              20: 0,\n",
       "              21: 0,\n",
       "              22: 0,\n",
       "              23: 0,\n",
       "              24: 0,\n",
       "              25: 0,\n",
       "              26: 0,\n",
       "              27: 0,\n",
       "              28: 0,\n",
       "              29: 0,\n",
       "              30: 0,\n",
       "              31: 0,\n",
       "              32: 0,\n",
       "              33: 0,\n",
       "              34: 0,\n",
       "              35: 0,\n",
       "              36: 0,\n",
       "              37: 0,\n",
       "              38: 0,\n",
       "              39: 0,\n",
       "              40: 6,\n",
       "              41: 6,\n",
       "              42: 6}),\n",
       " array([ 1,  0,  2,  0,  3,  0,  4,  0,  5,  0,  6,  0,  7,  0,  8,  0,  9,\n",
       "         0, 10,  0, 11,  0, 12,  0, 13,  0, 14,  0, 15,  0, 16,  0, 17,  0,\n",
       "        18,  0, 19,  0, 20,  0, 21,  0, 22,  0, 23,  0, 24,  0, 25,  0, 26,\n",
       "         0, 27,  0, 28,  0, 29,  0, 30,  0, 31,  0, 32,  0, 33,  0, 34,  0,\n",
       "        35,  0, 36,  0, 37,  0, 38,  0, 39,  0, 40,  0,  0,  0,  0,  0,  0,\n",
       "         0, 41,  0,  0,  0,  0,  0,  0,  0, 42,  0,  0,  0,  0,  0]))"
      ]
     },
     "execution_count": 8,
     "metadata": {},
     "output_type": "execute_result"
    }
   ],
   "source": [
    "main_loop(1, road_len=100)"
   ]
  }
 ],
 "metadata": {
  "kernelspec": {
   "display_name": "Python 3",
   "language": "python",
   "name": "python3"
  },
  "language_info": {
   "codemirror_mode": {
    "name": "ipython",
    "version": 3
   },
   "file_extension": ".py",
   "mimetype": "text/x-python",
   "name": "python",
   "nbconvert_exporter": "python",
   "pygments_lexer": "ipython3",
   "version": "3.7.4"
  }
 },
 "nbformat": 4,
 "nbformat_minor": 2
}
