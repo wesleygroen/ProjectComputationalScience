{
 "cells": [
  {
   "cell_type": "code",
   "execution_count": null,
   "metadata": {},
   "outputs": [],
   "source": [
    "import numpy as np\n",
    "import random \n",
    "from collections import defaultdict\n",
    "from CA import random_init_cars, random_speed, car_positions"
   ]
  },
  {
   "cell_type": "code",
   "execution_count": null,
   "metadata": {},
   "outputs": [],
   "source": [
    "cars, road = random_init_cars(road_len=int(50), P_init=.5, speed_random=True)\n",
    "print(cars, road)"
   ]
  },
  {
   "cell_type": "code",
   "execution_count": null,
   "metadata": {},
   "outputs": [],
   "source": [
    "car_pos = car_positions(road)\n",
    "print(car_pos)"
   ]
  },
  {
   "cell_type": "code",
   "execution_count": null,
   "metadata": {},
   "outputs": [],
   "source": [
    "# Generate a new car randomly if the \n",
    "# first position of the road is free. \n",
    "\n",
    "# always returns the car and road array\n",
    "def generate_new_cars(cars, road, p=1,\n",
    "                      speed_random=False, Vmax=6):\n",
    "    if not road[0:2].any() and np.random.rand() <= p:\n",
    "        # give the new key a new label\n",
    "        new_car = max(cars.keys())+1\n",
    "        road[0] = new_car\n",
    "        print('new car ', new_car)\n",
    "        # if speed randomization is false, set speed to Vmax\n",
    "        if speed_random==False:\n",
    "            cars[new_car] = Vmax\n",
    "        else:\n",
    "            # choose random speed uniformly\n",
    "            cars[new_car] = random_speed()\n",
    "            print('random speed')\n",
    "    return cars, road      \n",
    "\n",
    "generate_new_cars(cars, road, speed_random=True)"
   ]
  },
  {
   "cell_type": "code",
   "execution_count": null,
   "metadata": {},
   "outputs": [],
   "source": [
    "# the speed is a function of the gap size\n",
    "# simplest model: accelerate to speed = gap_size\n",
    "def speed_update(car_pi, car_positions,\n",
    "                 cars, road, Vmax=10):\n",
    "    distance = car_positions[car_pi+1] - car_positions[car_pi] - 2\n",
    "    i = road[car_positions[car_pi]]\n",
    "    if distance >= Vmax:\n",
    "        cars[i] = Vmax\n",
    "    else:\n",
    "        cars[i] = distance\n",
    "    return cars"
   ]
  },
  {
   "cell_type": "code",
   "execution_count": null,
   "metadata": {},
   "outputs": [],
   "source": [
    "# update position of a single car given:\n",
    "# 1) it's index into the car positions array    \n",
    "# 2) the car positions array, array of indexes that say's where each car is on the road\n",
    "#     the array is ordered such that consecutive elements correspond with consecutive cars.\n",
    "#     F.e. element 0 can correspond with car 1, element 1 with car 2 and so on.\n",
    "# 3) the cars dictionairy\n",
    "# 4) road array\n",
    "\n",
    "# \n",
    "def position_update(car_pi, car_posses,\n",
    "                    cars, road):\n",
    "    car_pos = car_posses[car_pi]\n",
    "    i = road[car_pos]\n",
    "    speed = cars[i]\n",
    "    print('speed=', speed)\n",
    "    print('road segment=', \n",
    "          road[car_pos:car_pos+speed])\n",
    "    neighbors = car_positions(road[car_pos:car_pos+speed])\n",
    "    print('neighbor indices=',\n",
    "          neighbors)\n",
    "    # consider edge case when the updating the last car in the array,\n",
    "    # it can dissapear off the edge when position+speed > len(array)\n",
    "    if car_pi == len(car_posses)-1:\n",
    "        # delete car if it disappears of the road\n",
    "        if car_pos+speed > road.size-1:\n",
    "            road[car_pos]=0\n",
    "            del cars[i]\n",
    "            # only return the updated car dict if a car is deleted\n",
    "            return cars, road\n",
    "        # otherwise, the car can get up to the exact last block\n",
    "        else:\n",
    "            road[car_pos+speed]=road[car_pos]\n",
    "            road[car_pos]=0\n",
    "            return road          \n",
    "    # if not last car, update the position as normal\n",
    "    # if there is only one neighbor (i.e. itself), the road \n",
    "    # is clear to move at it's current speed\n",
    "    if neighbors.size==1:\n",
    "        road[car_pos + speed] = road[car_pos]\n",
    "        road[car_pos]=0\n",
    "        return road\n",
    "    # otherwise, move as close to the closest leader car \n",
    "    # as possible and adjust speed to this leader\n",
    "    else:\n",
    "        # dnn is relative distance to the first leader\n",
    "        dnn = neighbors[1]\n",
    "        print('distance to leader=',dnn)\n",
    "        # if the relative distance is exactly 2, it means the \n",
    "        # car is already driving as close as it wants to,\n",
    "        # and it can't move closer\n",
    "        if dnn == 2:\n",
    "            print('no change')\n",
    "            return road\n",
    "        # otherwise, the speed would result in a movement that \n",
    "        # is larger than the gap between itself and it's nearest\n",
    "        # leader\n",
    "        else:\n",
    "            # minimum gap is defined as it's distance to the nearest leader\n",
    "            # minus two, since there should always be one block between cars = \n",
    "            # distance of 2\n",
    "            min_gap = dnn-2\n",
    "            # if the speed is larger than this gap, is should simpy move \n",
    "            # as close as possible, i.e. this exact gap size, so it's\n",
    "            # new position is within one block of it's nearest leader\n",
    "            if speed > min_gap:\n",
    "                road[car_pos + min_gap] = road[car_pos]\n",
    "                road[car_pos]=0\n",
    "                print('speed = min gap')\n",
    "            # otherwise, there is a large enough gap given the current speed\n",
    "            # to move and it simply updates the position using this speed\n",
    "            else:\n",
    "                road[car_pos + speed] = road[car_pos]\n",
    "                road[car_pos]=0\n",
    "                print('speed = speed')\n",
    "        return road     "
   ]
  },
  {
   "cell_type": "code",
   "execution_count": null,
   "metadata": {},
   "outputs": [],
   "source": [
    "cars, road = random_init_cars(road_len=int(50),\n",
    "                              P_init=0.3, speed_random=True)\n",
    "print(road)\n",
    "car_pos = car_positions(road)\n",
    "lp = len(car_pos)-1\n",
    "position_update(lp, car_pos, \n",
    "               cars, road)"
   ]
  }
 ],
 "metadata": {
  "kernelspec": {
   "display_name": "Python 3",
   "language": "python",
   "name": "python3"
  },
  "language_info": {
   "codemirror_mode": {
    "name": "ipython",
    "version": 3
   },
   "file_extension": ".py",
   "mimetype": "text/x-python",
   "name": "python",
   "nbconvert_exporter": "python",
   "pygments_lexer": "ipython3",
   "version": "3.7.4"
  }
 },
 "nbformat": 4,
 "nbformat_minor": 2
}
