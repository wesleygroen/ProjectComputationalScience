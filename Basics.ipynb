{
 "cells": [
  {
   "cell_type": "code",
   "execution_count": null,
   "metadata": {},
   "outputs": [],
   "source": [
    "import numpy as np\n",
    "import random \n",
    "from collections import defaultdict\n",
    "from CA import *"
   ]
  },
  {
   "cell_type": "code",
   "execution_count": null,
   "metadata": {},
   "outputs": [],
   "source": [
    "cars, road = random_init_cars(road_len=int(50), P_init=.5, speed_random=True)\n",
    "print(cars, road)"
   ]
  },
  {
   "cell_type": "code",
   "execution_count": null,
   "metadata": {},
   "outputs": [],
   "source": [
    "car_possies = car_positions(road)\n",
    "# print(car_pos)"
   ]
  },
  {
   "cell_type": "code",
   "execution_count": null,
   "metadata": {},
   "outputs": [],
   "source": [
    "generate_new_cars(cars, road, speed_random=True)"
   ]
  },
  {
   "cell_type": "code",
   "execution_count": null,
   "metadata": {},
   "outputs": [],
   "source": [
    "cars, road = random_init_cars(road_len=100, P_init=0.3,\n",
    "                     speed_random=False, Vmax=6)\n",
    "possies = car_positions(road=road)\n",
    "\n",
    "for i in range(len(possies)):\n",
    "    road = position_update_one_car(i, possies,\n",
    "                    cars, road)\n",
    "    print(road)"
   ]
  },
  {
   "cell_type": "code",
   "execution_count": null,
   "metadata": {},
   "outputs": [],
   "source": [
    "cars, road = random_init_cars(road_len=int(50),\n",
    "                              P_init=0.3, speed_random=True)\n",
    "print(road)\n",
    "car_pos = car_positions(road)\n",
    "lp = len(car_pos)-1"
   ]
  },
  {
   "cell_type": "code",
   "execution_count": null,
   "metadata": {},
   "outputs": [],
   "source": [
    "# MAIN EXPERIMENT LOOP\n",
    "# The loop iterates for N times, each step applying the rules defined in the \n",
    "# update functions. Each update represents one time step.\n",
    "# First a position update is made using the current time step + RT (reaction time)\n",
    "# time steps, to represent the delayed reaction. The speed update is\n",
    "# therefore always delayed by RT.\n",
    "\n",
    "# Position update never crashes cars into one another,\n",
    "# using the assumptions that cars can decelerate as fast as necessary.\n",
    "# They never come closer than one block distance. If cars are at this minimum distance, \n",
    "# their next speed update sets their speed to 0, using the assumption that cars stop when \n",
    "# they get at this critical distance. Otherwise, the speed in blocks per time step \n",
    "# is exactly equal to the distance to it's leader, up to Vmax when there are more than \n",
    "# Vmax blocks free ahead. \n",
    "def main_loop(RT=0, N=10, \n",
    "              road_len, P_init, speed_random=False, \n",
    "              p_gen=0.3, Vmax=6):\n",
    "    # initialize the road and cars \n",
    "    cars, road = random_init_cars(road_len=road_len, P_init=P_init,\n",
    "                     speed_random=speed_random, Vmax=6)\n",
    "    # make the initial positions array of all cars on the road\n",
    "    car_posses = car_positions(road)\n",
    "    #\n",
    "    \n",
    "    t_delay = 0\n",
    "    for t in range(N):\n",
    "        # the delay time incurred buy the reaction time, defines how long a car \n",
    "        # continues moving at the current speed\n",
    "        t_delay = t + RT\n",
    "        # update the position at the current velocity for t + RT time steps\n",
    "        if t < t_delay:\n",
    "            road = position_update(car_pi, car_posses,\n",
    "                    cars, road)\n",
    "        \n",
    "    return cars, road\n",
    "\n",
    "main_loop(road_len=100, P_init=0.3)"
   ]
  },
  {
   "cell_type": "code",
   "execution_count": null,
   "metadata": {},
   "outputs": [],
   "source": [
    "#"
   ]
  }
 ],
 "metadata": {
  "kernelspec": {
   "display_name": "Python 3",
   "language": "python",
   "name": "python3"
  },
  "language_info": {
   "codemirror_mode": {
    "name": "ipython",
    "version": 3
   },
   "file_extension": ".py",
   "mimetype": "text/x-python",
   "name": "python",
   "nbconvert_exporter": "python",
   "pygments_lexer": "ipython3",
   "version": "3.7.4"
  }
 },
 "nbformat": 4,
 "nbformat_minor": 2
}
