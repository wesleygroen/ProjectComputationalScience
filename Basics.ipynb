{
 "cells": [
  {
   "cell_type": "code",
   "execution_count": 1,
   "metadata": {},
   "outputs": [],
   "source": [
    "import matplotlib.pyplot as plt\n",
    "import config\n",
    "from CA import *"
   ]
  },
  {
   "cell_type": "code",
   "execution_count": 4,
   "metadata": {},
   "outputs": [
    {
     "name": "stdout",
     "output_type": "stream",
     "text": [
      "dict_values([0, 0, 5, 0, 0, 0, 1, 0, 1, 6, 0, 0, 0, 3, 3, 6, 4, 6, 3, 1, 5, 4, 3, 0, 0, 0, 6, 0, 1, 2, 0, 1, 1, 4, 6, 0, 0, 2, 1, 0, 0, 1, 4, 0, 1, 2, 1, 2, 0, 1, 2, 1, 3, 6, 2, 2, 0, 4, 2, 4, 4, 6, 2, 0, 2, 0, 3, 6, 0, 3, 6, 5, 0, 2, 0, 0, 5, 0, 0, 3, 4, 3, 2, 0, 2, 0, 0, 6, 2, 0, 2, 5, 3, 2, 1, 6, 4, 6, 3, 0, 1, 4, 2, 0, 3, 2, 0, 4, 4, 0, 1, 3, 0, 0, 6, 4, 2, 6, 0, 3, 2, 2, 0, 6, 2, 0, 1, 1, 0, 3, 1, 2, 0, 0, 1, 0, 1, 0, 2, 4, 3, 4, 3, 5, 2, 1, 3, 1, 2, 6, 0, 0, 4, 0, 2, 4, 5, 0, 6, 5, 2, 0, 1, 6, 6, 2, 2, 2, 1, 0, 2, 0, 6, 3, 0, 0, 3, 0, 1, 4, 3, 1, 3, 2, 0, 1, 5, 3, 4, 6, 2, 1, 2, 1, 2, 3, 0, 1, 0, 2, 0, 5, 0, 6, 1, 2, 1, 1, 1, 3, 1, 0, 1, 0, 0, 1, 0, 1, 4, 2, 6, 0, 4, 3, 6, 4, 6])\n",
      "dict_values([0, 0, 5, 0, 0, 0, 1, 0, 1, 6, 0, 0, 0, 3, 3, 6, 4, 6, 3, 1, 5, 4, 3, 0, 0, 0, 6, 0, 1, 2, 0, 1, 1, 4, 6, 0, 0, 2, 1, 0, 0, 1, 4, 0, 1, 2, 1, 2, 0, 1, 2, 1, 3, 6, 2, 2, 0, 4, 2, 4, 4, 6, 2, 0, 2, 0, 3, 6, 0, 3, 6, 5, 0, 2, 0, 0, 5, 0, 0, 3, 4, 3, 2, 0, 2, 0, 0, 6, 2, 0, 2, 5, 3, 2, 1, 6, 4, 6, 3, 0, 1, 4, 2, 0, 3, 2, 0, 4, 4, 0, 1, 3, 0, 0, 6, 4, 2, 6, 0, 3, 2, 2, 0, 6, 2, 0, 1, 1, 0, 3, 1, 2, 0, 0, 1, 0, 1, 0, 2, 4, 3, 4, 3, 5, 2, 1, 3, 1, 2, 6, 0, 0, 4, 0, 2, 4, 5, 0, 6, 5, 2, 0, 1, 6, 6, 2, 2, 2, 1, 0, 2, 0, 6, 3, 0, 0, 3, 0, 1, 4, 3, 1, 3, 2, 0, 1, 5, 3, 4, 6, 2, 1, 2, 1, 2, 3, 0, 1, 0, 2, 0, 5, 0, 6, 1, 2, 1, 1, 1, 3, 1, 0, 1, 0, 0, 1, 0, 1, 4, 2, 6, 0, 4, 3, 6, 4])\n",
      "dict_values([0, 5, 0, 0, 0, 1, 0, 2, 6, 0, 0, 0, 6, 3, 6, 6, 5, 1, 1, 6, 3, 0, 0, 0, 0, 6, 0, 2, 1, 0, 2, 1, 6, 4, 0, 0, 3, 0, 0, 0, 2, 3, 0, 2, 2, 1, 1, 0, 2, 2, 1, 5, 6, 2, 0, 0, 6, 2, 6, 4, 6, 2, 0, 2, 0, 6, 3, 0, 6, 6, 0, 0, 2, 0, 0, 5, 0, 0, 6, 4, 2, 0, 0, 2, 0, 0, 6, 0, 0, 4, 6, 2, 1, 1, 6, 4, 6, 0, 0, 2, 5, 0, 0, 5, 0, 0, 6, 0, 0, 2, 2, 0, 0, 6, 2, 2, 5, 0, 5, 2, 0, 0, 6, 6, 0, 2, 0, 0, 4, 1, 1, 0, 0, 1, 0, 1, 0, 4, 5, 3, 4, 3, 4, 1, 1, 3, 1, 3, 5, 0, 0, 4, 0, 4, 6, 1, 0, 6, 3, 0, 0, 2, 6, 4, 2, 2, 1, 0, 0, 2, 0, 6, 6, 0, 0, 3, 0, 2, 6, 1, 1, 4, 0, 0, 2, 6, 3, 5, 4, 1, 1, 2, 1, 3, 1, 0, 1, 0, 2, 0, 5, 0, 6, 4, 2, 1, 1, 1, 3, 0, 0, 1, 0, 0, 1, 0, 2, 5, 2, 5, 0, 6, 3, 6, 6])\n",
      "dict_values([0, 5, 0, 0, 0, 1, 0, 2, 6, 0, 0, 0, 6, 3, 6, 6, 5, 1, 1, 6, 3, 0, 0, 0, 0, 6, 0, 2, 1, 0, 2, 1, 6, 4, 0, 0, 3, 0, 0, 0, 2, 3, 0, 2, 2, 1, 1, 0, 2, 2, 1, 5, 6, 2, 0, 0, 6, 2, 6, 4, 6, 2, 0, 2, 0, 6, 3, 0, 6, 6, 0, 0, 2, 0, 0, 5, 0, 0, 6, 4, 2, 0, 0, 2, 0, 0, 6, 0, 0, 4, 6, 2, 1, 1, 6, 4, 6, 0, 0, 2, 5, 0, 0, 5, 0, 0, 6, 0, 0, 2, 2, 0, 0, 6, 2, 2, 5, 0, 5, 2, 0, 0, 6, 6, 0, 2, 0, 0, 4, 1, 1, 0, 0, 1, 0, 1, 0, 4, 5, 3, 4, 3, 4, 1, 1, 3, 1, 3, 5, 0, 0, 4, 0, 4, 6, 1, 0, 6, 3, 0, 0, 2, 6, 4, 2, 2, 1, 0, 0, 2, 0, 6, 6, 0, 0, 3, 0, 2, 6, 1, 1, 4, 0, 0, 2, 6, 3, 5, 4, 1, 1, 2, 1, 3, 1, 0, 1, 0, 2, 0, 5, 0, 6, 4, 2, 1, 1, 1, 3, 0, 0, 1, 0, 0, 1, 0, 2, 5, 2, 5, 0, 6, 3, 6, 6])\n",
      "dict_values([5, 0, 0, 0, 1, 0, 4, 4, 0, 0, 0, 6, 3, 6, 6, 3, 1, 1, 6, 0, 0, 0, 0, 0, 6, 0, 3, 0, 0, 3, 1, 6, 0, 0, 0, 3, 0, 0, 0, 4, 1, 0, 4, 1, 1, 0, 0, 4, 1, 1, 6, 4, 0, 0, 0, 6, 2, 6, 4, 6, 0, 0, 2, 0, 6, 0, 0, 6, 2, 0, 0, 2, 0, 0, 5, 0, 0, 6, 2, 0, 0, 0, 2, 0, 0, 6, 0, 0, 6, 4, 1, 1, 1, 6, 6, 2, 0, 0, 4, 3, 0, 0, 5, 0, 0, 6, 0, 0, 4, 0, 0, 0, 6, 4, 2, 3, 0, 6, 0, 0, 0, 6, 6, 0, 2, 0, 0, 5, 1, 0, 0, 0, 1, 0, 1, 0, 6, 4, 3, 4, 3, 2, 1, 1, 3, 1, 5, 2, 0, 0, 4, 0, 6, 3, 0, 0, 6, 3, 0, 0, 4, 6, 5, 2, 1, 0, 0, 0, 2, 0, 6, 6, 0, 0, 3, 0, 4, 5, 1, 1, 3, 0, 0, 4, 6, 3, 6, 1, 1, 1, 2, 1, 3, 0, 0, 1, 0, 2, 0, 5, 0, 6, 6, 1, 1, 1, 1, 2, 0, 0, 1, 0, 0, 1, 0, 4, 5, 2, 3, 0, 6, 3, 6, 6])\n",
      "dict_values([5, 0, 0, 0, 1, 0, 4, 4, 0, 0, 0, 6, 3, 6, 6, 3, 1, 1, 6, 0, 0, 0, 0, 0, 6, 0, 3, 0, 0, 3, 1, 6, 0, 0, 0, 3, 0, 0, 0, 4, 1, 0, 4, 1, 1, 0, 0, 4, 1, 1, 6, 4, 0, 0, 0, 6, 2, 6, 4, 6, 0, 0, 2, 0, 6, 0, 0, 6, 2, 0, 0, 2, 0, 0, 5, 0, 0, 6, 2, 0, 0, 0, 2, 0, 0, 6, 0, 0, 6, 4, 1, 1, 1, 6, 6, 2, 0, 0, 4, 3, 0, 0, 5, 0, 0, 6, 0, 0, 4, 0, 0, 0, 6, 4, 2, 3, 0, 6, 0, 0, 0, 6, 6, 0, 2, 0, 0, 5, 1, 0, 0, 0, 1, 0, 1, 0, 6, 4, 3, 4, 3, 2, 1, 1, 3, 1, 5, 2, 0, 0, 4, 0, 6, 3, 0, 0, 6, 3, 0, 0, 4, 6, 5, 2, 1, 0, 0, 0, 2, 0, 6, 6, 0, 0, 3, 0, 4, 5, 1, 1, 3, 0, 0, 4, 6, 3, 6, 1, 1, 1, 2, 1, 3, 0, 0, 1, 0, 2, 0, 5, 0, 6, 6, 1, 1, 1, 1, 2, 0, 0, 1, 0, 0, 1, 0, 4, 5, 2, 3, 0, 6, 3, 6, 6])\n",
      "dict_values([0, 0, 0, 1, 0, 6, 0, 0, 0, 0, 6, 3, 6, 6, 1, 1, 1, 6, 0, 0, 0, 0, 0, 6, 0, 3, 0, 0, 4, 1, 6, 0, 0, 0, 3, 0, 0, 0, 5, 0, 0, 5, 1, 0, 0, 0, 5, 1, 1, 6, 1, 0, 0, 0, 6, 2, 6, 4, 2, 0, 0, 2, 0, 6, 0, 0, 6, 2, 0, 0, 2, 0, 0, 5, 0, 0, 6, 0, 0, 0, 0, 2, 0, 0, 6, 0, 0, 6, 1, 1, 1, 1, 6, 6, 0, 0, 0, 6, 0, 0, 0, 5, 0, 0, 6, 0, 0, 4, 0, 0, 0, 6, 6, 2, 1, 0, 6, 0, 0, 0, 6, 6, 0, 2, 0, 0, 6, 0, 0, 0, 0, 1, 0, 1, 0, 6, 3, 3, 4, 2, 1, 1, 1, 3, 1, 6, 0, 0, 0, 4, 0, 6, 0, 0, 0, 6, 3, 0, 0, 6, 6, 5, 1, 0, 0, 0, 0, 2, 0, 6, 6, 0, 0, 3, 0, 6, 2, 1, 1, 2, 0, 0, 6, 6, 3, 4, 1, 1, 1, 2, 1, 2, 0, 0, 1, 0, 2, 0, 5, 0, 6, 6, 1, 1, 1, 1, 1, 0, 0, 1, 0, 0, 1, 0, 6, 3, 2, 1, 0, 6, 4, 6, 6])\n",
      "dict_values([0, 0, 0, 1, 0, 6, 0, 0, 0, 0, 6, 3, 6, 6, 1, 1, 1, 6, 0, 0, 0, 0, 0, 6, 0, 3, 0, 0, 4, 1, 6, 0, 0, 0, 3, 0, 0, 0, 5, 0, 0, 5, 1, 0, 0, 0, 5, 1, 1, 6, 1, 0, 0, 0, 6, 2, 6, 4, 2, 0, 0, 2, 0, 6, 0, 0, 6, 2, 0, 0, 2, 0, 0, 5, 0, 0, 6, 0, 0, 0, 0, 2, 0, 0, 6, 0, 0, 6, 1, 1, 1, 1, 6, 6, 0, 0, 0, 6, 0, 0, 0, 5, 0, 0, 6, 0, 0, 4, 0, 0, 0, 6, 6, 2, 1, 0, 6, 0, 0, 0, 6, 6, 0, 2, 0, 0, 6, 0, 0, 0, 0, 1, 0, 1, 0, 6, 3, 3, 4, 2, 1, 1, 1, 3, 1, 6, 0, 0, 0, 4, 0, 6, 0, 0, 0, 6, 3, 0, 0, 6, 6, 5, 1, 0, 0, 0, 0, 2, 0, 6, 6, 0, 0, 3, 0, 6, 2, 1, 1, 2, 0, 0, 6, 6, 3, 4, 1, 1, 1, 2, 1, 2, 0, 0, 1, 0, 2, 0, 5, 0, 6, 6, 1, 1, 1, 1, 1, 0, 0, 1, 0, 0, 1, 0, 6, 3, 2, 1, 0, 6, 4, 6])\n",
      "dict_values([0, 0, 1, 0, 6, 0, 0, 0, 0, 6, 6, 6, 6, 1, 1, 1, 6, 0, 0, 0, 0, 0, 6, 0, 3, 0, 0, 5, 1, 6, 0, 0, 0, 3, 0, 0, 0, 5, 0, 0, 6, 0, 0, 0, 0, 6, 1, 1, 6, 0, 0, 0, 0, 6, 2, 6, 4, 0, 0, 0, 2, 0, 6, 0, 0, 6, 2, 0, 0, 2, 0, 0, 5, 0, 0, 6, 0, 0, 0, 0, 2, 0, 0, 6, 0, 0, 6, 2, 1, 1, 1, 6, 6, 0, 0, 0, 6, 0, 0, 0, 5, 0, 0, 6, 0, 0, 4, 0, 0, 0, 6, 6, 1, 0, 0, 6, 0, 0, 0, 6, 6, 0, 2, 0, 0, 6, 0, 0, 0, 0, 1, 0, 1, 0, 6, 6, 3, 3, 1, 1, 1, 1, 3, 1, 5, 0, 0, 0, 4, 0, 6, 0, 0, 0, 6, 3, 0, 0, 6, 6, 2, 0, 0, 0, 0, 0, 2, 0, 6, 6, 0, 0, 3, 0, 6, 1, 1, 1, 1, 0, 0, 6, 6, 3, 2, 1, 1, 1, 2, 1, 1, 0, 0, 1, 0, 2, 0, 5, 0, 6, 6, 1, 1, 1, 1, 0, 0, 0, 1, 0, 0, 1, 0, 6, 2, 1, 0, 0, 6, 6, 6, 6])\n",
      "dict_values([0, 0, 1, 0, 6, 0, 0, 0, 0, 6, 6, 6, 6, 1, 1, 1, 6, 0, 0, 0, 0, 0, 6, 0, 3, 0, 0, 5, 1, 6, 0, 0, 0, 3, 0, 0, 0, 5, 0, 0, 6, 0, 0, 0, 0, 6, 1, 1, 6, 0, 0, 0, 0, 6, 2, 6, 4, 0, 0, 0, 2, 0, 6, 0, 0, 6, 2, 0, 0, 2, 0, 0, 5, 0, 0, 6, 0, 0, 0, 0, 2, 0, 0, 6, 0, 0, 6, 2, 1, 1, 1, 6, 6, 0, 0, 0, 6, 0, 0, 0, 5, 0, 0, 6, 0, 0, 4, 0, 0, 0, 6, 6, 1, 0, 0, 6, 0, 0, 0, 6, 6, 0, 2, 0, 0, 6, 0, 0, 0, 0, 1, 0, 1, 0, 6, 6, 3, 3, 1, 1, 1, 1, 3, 1, 5, 0, 0, 0, 4, 0, 6, 0, 0, 0, 6, 3, 0, 0, 6, 6, 2, 0, 0, 0, 0, 0, 2, 0, 6, 6, 0, 0, 3, 0, 6, 1, 1, 1, 1, 0, 0, 6, 6, 3, 2, 1, 1, 1, 2, 1, 1, 0, 0, 1, 0, 2, 0, 5, 0, 6, 6, 1, 1, 1, 1, 0, 0, 0, 1, 0, 0, 1, 0, 6, 2, 1, 0, 0, 6, 6, 6, 5])\n"
     ]
    },
    {
     "data": {
      "text/plain": [
       "0.6"
      ]
     },
     "execution_count": 4,
     "metadata": {},
     "output_type": "execute_result"
    }
   ],
   "source": [
    "N = 10\n",
    "cars, road = main_loop(0.3, iterations=N, road_len=int(1000),\n",
    "              Vmax=6, Vrandom=True, p_gen=0.1,\n",
    "              reaction_time=2)\n",
    "# flow rate = cars pass / timestep\n",
    "config.flow_counter/N"
   ]
  },
  {
   "cell_type": "code",
   "execution_count": 3,
   "metadata": {},
   "outputs": [
    {
     "data": {
      "image/png": "[encoded data removed]",
      "text/plain": [
       "<Figure size 7200x7200 with 1 Axes>"
      ]
     },
     "metadata": {
      "needs_background": "light"
     },
     "output_type": "display_data"
    }
   ],
   "source": [
    "plot_traffic()"
   ]
  }
 ],
 "metadata": {
  "kernelspec": {
   "display_name": "Python 3",
   "language": "python",
   "name": "python3"
  },
  "language_info": {
   "codemirror_mode": {
    "name": "ipython",
    "version": 3
   },
   "file_extension": ".py",
   "mimetype": "text/x-python",
   "name": "python",
   "nbconvert_exporter": "python",
   "pygments_lexer": "ipython3",
   "version": "3.7.4"
  }
 },
 "nbformat": 4,
 "nbformat_minor": 2
}
