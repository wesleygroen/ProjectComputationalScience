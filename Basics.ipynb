{
 "cells": [
  {
   "cell_type": "code",
   "execution_count": null,
   "metadata": {},
   "outputs": [],
   "source": [
    "import numpy as np\n",
    "import random \n",
    "from collections import defaultdict\n",
    "from CA import *"
   ]
  },
  {
   "cell_type": "code",
   "execution_count": null,
   "metadata": {},
   "outputs": [],
   "source": [
    "def main_loop(P_init, \n",
    "              iterations=10, road_len=int(1e4), Vmax=6, Vrandom=True,\n",
    "             p_gen=0.5):\n",
    "    \n",
    "    # make the initial road and cars\n",
    "    cars, road = random_init_cars(road_len, P_init,\n",
    "                                  Vrandom,\n",
    "                                  Vmax)\n",
    "    # make initial car positions\n",
    "    positions = car_positions(road)\n",
    "    \n",
    "    # run the main experiment loop\n",
    "    for i in range(1000):\n",
    "        # update the position using current speed\n",
    "        cars, road = position_update(positions, cars, road)\n",
    "        # get the new car positions from the new array\n",
    "        positions = car_positions(road)\n",
    "        # update the speed based on the new position\n",
    "        cars = speed_update(positions, cars, road, Vmax)\n",
    "        print(road)\n",
    "        \n",
    "    return cars, road     \n",
    "        \n",
    "        \n",
    "main_loop(1)        "
   ]
  },
  {
   "cell_type": "raw",
   "metadata": {},
   "source": []
  }
 ],
 "metadata": {
  "kernelspec": {
   "display_name": "Python 3",
   "language": "python",
   "name": "python3"
  },
  "language_info": {
   "codemirror_mode": {
    "name": "ipython",
    "version": 3
   },
   "file_extension": ".py",
   "mimetype": "text/x-python",
   "name": "python",
   "nbconvert_exporter": "python",
   "pygments_lexer": "ipython3",
   "version": "3.7.4"
  }
 },
 "nbformat": 4,
 "nbformat_minor": 2
}
