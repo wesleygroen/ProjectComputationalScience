{
 "cells": [
  {
   "cell_type": "code",
   "execution_count": 1,
   "metadata": {},
   "outputs": [],
   "source": [
    "import numpy as np\n",
    "import random \n",
    "from collections import defaultdict"
   ]
  },
  {
   "cell_type": "code",
   "execution_count": 19,
   "metadata": {},
   "outputs": [
    {
     "name": "stdout",
     "output_type": "stream",
     "text": [
      "[ 0  0  0  0  0  0  1  0  0  0  0  0  0  0  0  0  0  0  0  0  0  0  0  0\n",
      "  0  0  0  0  0  0  0  0  0  0  0  0  0  0  0  2  0  0  0  0  0  3  0  4\n",
      "  0  0  0  0  0  0  0  5  0  0  0  0  0  0  0  0  0  0  0  0  0  0  0  0\n",
      "  0  0  0  0  0  0  0  0  6  0  0  0  0  0  0  0  0  0  0  0  0  0  0  0\n",
      "  0  7  0  0  0  0  0  0  0  0  0  0  0  8  0  0  0  0  9  0 10  0 11  0\n",
      "  0  0  0  0  0  0  0  0 12  0  0  0  0  0  0  0  0  0  0  0  0 13  0  0\n",
      "  0  0 14  0  0  0  0  0  0  0  0  0 15  0  0  0  0  0  0  0  0  0  0  0\n",
      "  0  0  0  0  0  0  0 16  0  0  0  0  0  0  0  0  0  0  0  0  0  0  0  0\n",
      " 17  0  0  0  0 18  0  0  0  0  0  0  0  0  0  0  0  0  0  0  0  0  0  0\n",
      "  0  0  0  0  0  0  0 19  0  0  0  0  0  0 20  0  0  0  0  0 21  0  0  0\n",
      "  0  0  0  0  0  0  0  0  0  0  0  0  0  0 22  0  0  0  0  0 23  0  0 24\n",
      "  0  0  0  0  0  0  0  0  0  0  0  0  0  0  0  0  0  0  0  0  0  0  0  0\n",
      "  0  0  0  0  0  0  0  0 25  0  0  0  0  0  0 26  0 27  0  0  0  0 28  0\n",
      "  0  0 29  0 30  0  0  0  0  0  0  0  0  0  0  0  0  0  0  0  0  0  0  0\n",
      "  0  0  0  0  0 31  0  0  0  0  0  0  0  0  0  0  0  0 32  0  0  0  0  0\n",
      "  0  0  0  0  0  0  0  0  0  0  0  0 33  0  0  0  0  0  0  0  0  0  0  0\n",
      "  0  0  0  0  0  0  0  0  0  0 34  0  0  0  0 35  0  0  0  0  0  0  0  0\n",
      "  0  0  0  0  0  0 36  0  0  0  0  0 37  0  0  0  0  0  0  0  0  0  0  0\n",
      " 38  0  0  0  0  0  0  0  0 39  0  0 40  0  0  0  0 41  0  0  0  0  0  0\n",
      "  0  0  0  0  0  0  0  0  0  0  0  0  0  0  0  0  0  0  0  0  0  0  0  0\n",
      "  0  0  0  0 42  0  0  0  0  0 43  0  0  0  0  0  0  0  0  0  0 44  0  0\n",
      "  0  0  0 45  0  0  0  0  0  0  0  0 46  0 47  0  0  0  0  0 48  0  0  0\n",
      "  0  0  0 49  0  0  0 50  0  0  0  0  0  0  0  0  0  0  0  0  0 51  0  0\n",
      "  0  0  0 52  0  0  0  0  0  0 53  0  0  0  0  0  0  0  0  0  0  0  0  0\n",
      "  0  0  0  0  0  0  0  0  0  0  0  0 54  0  0  0  0  0 55  0  0  0  0  0\n",
      "  0  0  0  0  0  0  0  0  0  0  0  0  0  0  0  0  0  0 56  0  0  0  0  0\n",
      "  0  0  0  0  0 57  0  0  0  0  0  0  0  0  0 58  0  0  0  0  0  0  0  0\n",
      "  0 59  0  0  0  0  0  0  0  0  0  0  0  0  0  0  0  0 60  0  0  0  0  0\n",
      "  0  0  0  0  0  0  0  0 61  0  0  0 62  0  0  0  0  0 63  0  0 64  0  0\n",
      "  0  0  0  0  0  0 65  0  0  0  0 66  0  0  0  0  0  0  0  0  0  0  0  0\n",
      "  0  0  0  0  0  0  0  0  0  0  0  0  0  0  0  0  0 67  0  0  0  0  0  0\n",
      " 68  0  0  0  0  0 69  0  0 70  0  0  0  0  0  0 71  0  0  0  0  0  0  0\n",
      "  0  0  0  0  0  0  0  0  0  0  0  0  0  0  0  0  0  0  0  0  0  0  0 72\n",
      "  0  0  0  0  0  0  0  0  0  0  0  0  0  0  0  0  0  0  0  0  0  0  0  0\n",
      "  0  0  0  0  0  0  0  0  0  0  0  0  0  0 73  0  0  0  0  0 74  0 75  0\n",
      " 76  0  0  0  0  0  0  0 77  0  0  0  0  0  0  0 78  0  0  0  0  0  0  0\n",
      "  0  0  0  0  0  0 79  0  0 80  0  0  0  0  0  0  0  0  0  0  0 81  0  0\n",
      "  0  0  0  0  0 82  0  0  0  0  0  0  0  0  0  0  0  0  0  0  0  0  0  0\n",
      "  0  0  0  0  0  0  0  0  0  0  0  0  0  0  0  0  0  0  0  0  0  0  0  0\n",
      " 83  0 84  0 85  0  0  0  0  0  0  0  0 86  0  0  0  0  0  0  0  0  0  0\n",
      "  0 87  0  0  0  0  0  0  0  0  0  0  0 88  0  0  0  0  0  0  0  0  0  0\n",
      "  0  0  0  0  0  0  0  0  0  0 89  0  0  0  0  0]\n"
     ]
    }
   ],
   "source": [
    "def random_init_cars(road_len, P_init,\n",
    "                     speed_random=False, Vmax=6):\n",
    "    cars = defaultdict(int)\n",
    "    # discrete possible set of speeds\n",
    "    speeds = [0,1,2,3,4,5,6]\n",
    "    # zero indicates there is no car or a non-rear part of a car\n",
    "    # is present\n",
    "    road = np.array([0]*road_len)\n",
    "    if speed_random==True:\n",
    "        x=0\n",
    "        i=1\n",
    "        while x < road_len:\n",
    "            if np.random.rand() <= P_init:\n",
    "                # choose random speed in {0,6} range\n",
    "                cars[i]=random.choice(speeds)\n",
    "                road[x]=i\n",
    "                x+=2\n",
    "                i+=1\n",
    "                continue\n",
    "            x+=1\n",
    "    else:\n",
    "        x=0\n",
    "        i=1\n",
    "        while x < road_len:\n",
    "            if np.random.rand() <= P_init:\n",
    "                # if not random, start all cars at Vmax \n",
    "                cars[i]=Vmax\n",
    "                road[x]=i\n",
    "                x+=2\n",
    "                i+=1\n",
    "                continue\n",
    "            x+=1\n",
    "    return cars, road\n",
    "cars, road = random_init_cars(road_len=int(1000),\n",
    "                              P_init=0.1)\n",
    "print(road)"
   ]
  },
  {
   "cell_type": "code",
   "execution_count": 20,
   "metadata": {},
   "outputs": [
    {
     "name": "stdout",
     "output_type": "stream",
     "text": [
      "[  6  39  45  47  55  80  97 109 114 116 118 128 141 146 156 175 192 197\n",
      " 223 230 236 254 260 263 296 303 305 310 314 316 341 354 372 394 399 414\n",
      " 420 432 441 444 449 484 490 501 507 516 518 524 531 535 549 555 562 588\n",
      " 594 618 629 639 649 666 680 684 690 693 702 707 737 744 750 753 760 791\n",
      " 830 836 838 840 848 856 870 873 885 893 936 938 940 949 961 973 994]\n"
     ]
    }
   ],
   "source": [
    "# get the indexes of all cars on the road array\n",
    "def car_positions(road):\n",
    "    return np.nonzero(road)[0]\n",
    "\n",
    "car_pos = car_positions(road)\n",
    "print(car_pos)"
   ]
  },
  {
   "cell_type": "code",
   "execution_count": 21,
   "metadata": {},
   "outputs": [],
   "source": [
    "# update the speed of a single car, checking the gap between \n",
    "# itself and the leader\n",
    "\n",
    "\n",
    "# the speed is a function of the gap size\n",
    "# simplest model: accelerate to speed = gap_size\n",
    "def speed_update(car_pos_index, car_positions,\n",
    "                 cars, road, Vmax=10):\n",
    "    distance = car_positions[car_pos_index+1] - car_positions[car_pos_index] - 2\n",
    "    print(distance)\n",
    "    car = road[car_positions[car_pos_index]]\n",
    "    if distance >= Vmax:\n",
    "        print('kak')\n",
    "        cars[car] = Vmax\n",
    "    else:\n",
    "        print('snak')\n",
    "        cars[car] = distance\n",
    "    return cars\n",
    " \n",
    "# update position of a single car    \n",
    "def position_update(car_pos_index, car_positions,\n",
    "                    cars, road):\n",
    "    speed = cars[car_positions[car_pos_index]]\n",
    "    pos = car_positions(road[car_pos_index : (car_pos_index+speed)])\n",
    "    if pos.size == 0:\n",
    "        road[car_pos_index+speed] = road[car_pos_index]\n",
    "        road[car_pos_index] = 0\n",
    "    else:\n",
    "         road[pos[0]-car_size] = road[car_pos_index] \n",
    "    "
   ]
  },
  {
   "cell_type": "code",
   "execution_count": null,
   "metadata": {},
   "outputs": [],
   "source": [
    "speed_update(0, car_pos,\n",
    "            cars, road)"
   ]
  }
 ],
 "metadata": {
  "kernelspec": {
   "display_name": "Python 3",
   "language": "python",
   "name": "python3"
  },
  "language_info": {
   "codemirror_mode": {
    "name": "ipython",
    "version": 3
   },
   "file_extension": ".py",
   "mimetype": "text/x-python",
   "name": "python",
   "nbconvert_exporter": "python",
   "pygments_lexer": "ipython3",
   "version": "3.7.4"
  }
 },
 "nbformat": 4,
 "nbformat_minor": 2
}
