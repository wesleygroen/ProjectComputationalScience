{
 "cells": [
  {
   "cell_type": "code",
   "execution_count": null,
   "metadata": {},
   "outputs": [],
   "source": [
    "import numpy as np\n",
    "import config\n",
    "from CA import *\n",
    "import animate"
   ]
  },
  {
   "cell_type": "code",
   "execution_count": null,
   "metadata": {},
   "outputs": [],
   "source": [
    "main_loop(0.7, 50, road_len= 80, p_gen=0.5)\n",
    "state_list = config.plot_data"
   ]
  },
  {
   "cell_type": "code",
   "execution_count": null,
   "metadata": {
    "scrolled": true
   },
   "outputs": [],
   "source": [
    "# def animate_traffic():\n",
    "#     # initiate camera to take snaps after every road update\n",
    "#     fig = plt.figure()\n",
    "#     cam = Camera(fig)\n",
    "\n",
    "#     z=0\n",
    "#     for state in config.plot_data:\n",
    "#         z+=1 \n",
    "#         # draws filled block at car positions and empty block at empty positions\n",
    "#         plt.gca().set_xlim([0,len(state)])\n",
    "#         plt.gca().set_ylim([0,2])\n",
    "#         plt.gca().axis('off')\n",
    "#         plt.gca().grid(b=None)\n",
    "#         plt.text(0, 1.5, str(z))\n",
    "#         for i in range(len(state)):\n",
    "#             if state[i] != 0:\n",
    "#                 rectangle = plt.Rectangle((i, 0.05), 1, 1.04, color=\"k\")\n",
    "#             else:\n",
    "#                 rectangle = plt.Rectangle((i, 0.05), 1, 1.04, fill=False)\n",
    "#             plt.gca().add_patch(rectangle)\n",
    "#         plt.gca().autoscale(tight=False,axis = \"x\")\n",
    "#         cam.snap()\n",
    "#     return HTML(cam.animate(interval=500, blit=False).to_html5_video())\n",
    "\n",
    "animate.animate_traffic(save=True)"
   ]
  },
  {
   "cell_type": "code",
   "execution_count": null,
   "metadata": {},
   "outputs": [],
   "source": []
  }
 ],
 "metadata": {
  "kernelspec": {
   "display_name": "Python 3",
   "language": "python",
   "name": "python3"
  },
  "language_info": {
   "codemirror_mode": {
    "name": "ipython",
    "version": 3
   },
   "file_extension": ".py",
   "mimetype": "text/x-python",
   "name": "python",
   "nbconvert_exporter": "python",
   "pygments_lexer": "ipython3",
   "version": "3.7.4"
  }
 },
 "nbformat": 4,
 "nbformat_minor": 2
}
